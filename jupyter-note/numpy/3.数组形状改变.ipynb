{
 "cells": [
  {
   "cell_type": "code",
   "execution_count": 51,
   "metadata": {},
   "outputs": [],
   "source": [
    "import numpy as np"
   ]
  },
  {
   "cell_type": "code",
   "execution_count": 52,
   "metadata": {},
   "outputs": [],
   "source": [
    "data = ((8.5,6,4.1,2,0.7),(1.5,3.5,4,7,3.9),(3.2,4.5,6,3,9),(11.2,13.4,15.6,17.8,19))"
   ]
  },
  {
   "cell_type": "code",
   "execution_count": 53,
   "metadata": {},
   "outputs": [
    {
     "data": {
      "text/plain": [
       "array([[ 8.5,  6. ,  4.1,  2. ,  0.7],\n",
       "       [ 1.5,  3.5,  4. ,  7. ,  3.9],\n",
       "       [ 3.2,  4.5,  6. ,  3. ,  9. ],\n",
       "       [11.2, 13.4, 15.6, 17.8, 19. ]])"
      ]
     },
     "execution_count": 53,
     "metadata": {},
     "output_type": "execute_result"
    }
   ],
   "source": [
    "arr = np.array(data)\n",
    "arr"
   ]
  },
  {
   "cell_type": "code",
   "execution_count": 54,
   "metadata": {},
   "outputs": [],
   "source": [
    "arr2 =arr.reshape(10,2)"
   ]
  },
  {
   "cell_type": "code",
   "execution_count": 55,
   "metadata": {},
   "outputs": [
    {
     "data": {
      "text/plain": [
       "array([[ 8.5,  6. ],\n",
       "       [ 4.1,  2. ],\n",
       "       [ 0.7,  1.5],\n",
       "       [ 3.5,  4. ],\n",
       "       [ 7. ,  3.9],\n",
       "       [ 3.2,  4.5],\n",
       "       [ 6. ,  3. ],\n",
       "       [ 9. , 11.2],\n",
       "       [13.4, 15.6],\n",
       "       [17.8, 19. ]])"
      ]
     },
     "execution_count": 55,
     "metadata": {},
     "output_type": "execute_result"
    }
   ],
   "source": [
    "arr2"
   ]
  },
  {
   "cell_type": "code",
   "execution_count": 56,
   "metadata": {},
   "outputs": [
    {
     "data": {
      "text/plain": [
       "array([[ 8.5,  6. ,  4.1,  2. ,  0.7],\n",
       "       [ 1.5,  3.5,  4. ,  7. ,  3.9],\n",
       "       [ 3.2,  4.5,  6. ,  3. ,  9. ],\n",
       "       [11.2, 13.4, 15.6, 17.8, 19. ]])"
      ]
     },
     "execution_count": 56,
     "metadata": {},
     "output_type": "execute_result"
    }
   ],
   "source": [
    "arr"
   ]
  },
  {
   "cell_type": "code",
   "execution_count": 57,
   "metadata": {},
   "outputs": [
    {
     "data": {
      "text/plain": [
       "array([[ 8.5,  6. ],\n",
       "       [ 4.1,  2. ],\n",
       "       [ 0.7,  1.5],\n",
       "       [ 3.5,  4. ],\n",
       "       [ 7. ,  3.9],\n",
       "       [ 3.2,  4.5],\n",
       "       [ 6. ,  3. ],\n",
       "       [ 9. , 11.2],\n",
       "       [13.4, 15.6],\n",
       "       [17.8, 19. ]])"
      ]
     },
     "execution_count": 57,
     "metadata": {},
     "output_type": "execute_result"
    }
   ],
   "source": [
    "arr.shape = (10,2)\n",
    "arr"
   ]
  },
  {
   "cell_type": "code",
   "execution_count": 58,
   "metadata": {},
   "outputs": [
    {
     "data": {
      "text/plain": [
       "array([ 8.5,  6. ,  4.1,  2. ,  0.7,  1.5,  3.5,  4. ,  7. ,  3.9,  3.2,\n",
       "        4.5,  6. ,  3. ,  9. , 11.2, 13.4, 15.6, 17.8, 19. ])"
      ]
     },
     "execution_count": 58,
     "metadata": {},
     "output_type": "execute_result"
    }
   ],
   "source": [
    "arr.ravel()"
   ]
  },
  {
   "cell_type": "code",
   "execution_count": 59,
   "metadata": {},
   "outputs": [
    {
     "data": {
      "text/plain": [
       "array([ 8.5,  4.1,  0.7,  3.5,  7. ,  3.2,  6. ,  9. , 13.4, 17.8,  6. ,\n",
       "        2. ,  1.5,  4. ,  3.9,  4.5,  3. , 11.2, 15.6, 19. ])"
      ]
     },
     "execution_count": 59,
     "metadata": {},
     "output_type": "execute_result"
    }
   ],
   "source": [
    "arr.ravel(order='F')"
   ]
  },
  {
   "cell_type": "code",
   "execution_count": 60,
   "metadata": {},
   "outputs": [
    {
     "data": {
      "text/plain": [
       "array([ 8.5,  4.1,  0.7,  3.5,  7. ,  3.2,  6. ,  9. , 13.4, 17.8,  6. ,\n",
       "        2. ,  1.5,  4. ,  3.9,  4.5,  3. , 11.2, 15.6, 19. ])"
      ]
     },
     "execution_count": 60,
     "metadata": {},
     "output_type": "execute_result"
    }
   ],
   "source": [
    "arr.flatten(order='F')"
   ]
  },
  {
   "cell_type": "code",
   "execution_count": 61,
   "metadata": {},
   "outputs": [
    {
     "data": {
      "text/plain": [
       "array([[ 8.5,  6. ,  4.1,  2. ,  0.7,  1.5,  3.5,  4. ,  7. ,  3.9],\n",
       "       [ 3.2,  4.5,  6. ,  3. ,  9. , 11.2, 13.4, 15.6, 17.8, 19. ]])"
      ]
     },
     "execution_count": 61,
     "metadata": {},
     "output_type": "execute_result"
    }
   ],
   "source": [
    "arr.reshape(2,-1)"
   ]
  },
  {
   "cell_type": "code",
   "execution_count": 62,
   "metadata": {},
   "outputs": [
    {
     "data": {
      "text/plain": [
       "array([[ 8.5,  6. ,  4.1,  2. ,  0.7,  1.5,  3.5,  4. ,  7. ,  3.9,  3.2,\n",
       "         4.5,  6. ,  3. ,  9. , 11.2, 13.4, 15.6, 17.8, 19. ]])"
      ]
     },
     "execution_count": 62,
     "metadata": {},
     "output_type": "execute_result"
    }
   ],
   "source": [
    "arr.reshape(1,-1)"
   ]
  },
  {
   "cell_type": "code",
   "execution_count": 63,
   "metadata": {},
   "outputs": [
    {
     "data": {
      "text/plain": [
       "array([ 8.5,  6. ,  4.1,  2. ,  0.7,  1.5,  3.5,  4. ,  7. ,  3.9,  3.2,\n",
       "        4.5,  6. ,  3. ,  9. , 11.2, 13.4, 15.6, 17.8, 19. ])"
      ]
     },
     "execution_count": 63,
     "metadata": {},
     "output_type": "execute_result"
    }
   ],
   "source": [
    "arr.reshape(-1)"
   ]
  },
  {
   "cell_type": "code",
   "execution_count": 64,
   "metadata": {},
   "outputs": [],
   "source": [
    "arr.flatten()[1] = 1000"
   ]
  },
  {
   "cell_type": "code",
   "execution_count": 65,
   "metadata": {},
   "outputs": [
    {
     "data": {
      "text/plain": [
       "array([[ 8.5,  6. ],\n",
       "       [ 4.1,  2. ],\n",
       "       [ 0.7,  1.5],\n",
       "       [ 3.5,  4. ],\n",
       "       [ 7. ,  3.9],\n",
       "       [ 3.2,  4.5],\n",
       "       [ 6. ,  3. ],\n",
       "       [ 9. , 11.2],\n",
       "       [13.4, 15.6],\n",
       "       [17.8, 19. ]])"
      ]
     },
     "execution_count": 65,
     "metadata": {},
     "output_type": "execute_result"
    }
   ],
   "source": [
    "arr"
   ]
  },
  {
   "cell_type": "code",
   "execution_count": 66,
   "metadata": {},
   "outputs": [],
   "source": [
    "arr.ravel()[1] = 1000"
   ]
  },
  {
   "cell_type": "code",
   "execution_count": 67,
   "metadata": {},
   "outputs": [],
   "source": [
    "arr.reshape(-1)[3] = 103"
   ]
  },
  {
   "cell_type": "code",
   "execution_count": 68,
   "metadata": {},
   "outputs": [
    {
     "data": {
      "text/plain": [
       "array([[8.50e+00, 1.00e+03],\n",
       "       [4.10e+00, 1.03e+02],\n",
       "       [7.00e-01, 1.50e+00],\n",
       "       [3.50e+00, 4.00e+00],\n",
       "       [7.00e+00, 3.90e+00],\n",
       "       [3.20e+00, 4.50e+00],\n",
       "       [6.00e+00, 3.00e+00],\n",
       "       [9.00e+00, 1.12e+01],\n",
       "       [1.34e+01, 1.56e+01],\n",
       "       [1.78e+01, 1.90e+01]])"
      ]
     },
     "execution_count": 68,
     "metadata": {},
     "output_type": "execute_result"
    }
   ],
   "source": [
    "arr"
   ]
  },
  {
   "cell_type": "markdown",
   "metadata": {},
   "source": [
    "reshape, ravel和flatten三个函数中的reshape和ravel会改变视图的结果，但都不会改变形状"
   ]
  },
  {
   "cell_type": "code",
   "execution_count": 69,
   "metadata": {},
   "outputs": [
    {
     "data": {
      "text/plain": [
       "array([8.50e+00, 1.00e+03, 4.10e+00, 1.03e+02, 7.00e-01, 1.50e+00,\n",
       "       3.50e+00, 4.00e+00, 7.00e+00, 3.90e+00, 3.20e+00, 4.50e+00,\n",
       "       6.00e+00, 3.00e+00, 9.00e+00, 1.12e+01, 1.34e+01, 1.56e+01,\n",
       "       1.78e+01, 1.90e+01])"
      ]
     },
     "execution_count": 69,
     "metadata": {},
     "output_type": "execute_result"
    }
   ],
   "source": [
    "arr_t = arr.ravel()\n",
    "arr_t"
   ]
  },
  {
   "cell_type": "code",
   "execution_count": 70,
   "metadata": {},
   "outputs": [
    {
     "data": {
      "text/plain": [
       "1"
      ]
     },
     "execution_count": 70,
     "metadata": {},
     "output_type": "execute_result"
    }
   ],
   "source": [
    "arr_t.ndim"
   ]
  },
  {
   "cell_type": "code",
   "execution_count": 71,
   "metadata": {},
   "outputs": [
    {
     "data": {
      "text/plain": [
       "(20,)"
      ]
     },
     "execution_count": 71,
     "metadata": {},
     "output_type": "execute_result"
    }
   ],
   "source": [
    "arr_t.shape"
   ]
  },
  {
   "cell_type": "code",
   "execution_count": 72,
   "metadata": {},
   "outputs": [
    {
     "data": {
      "text/plain": [
       "array([[8.50e+00, 1.00e+03, 4.10e+00, 1.03e+02, 7.00e-01, 1.50e+00,\n",
       "        3.50e+00, 4.00e+00, 7.00e+00, 3.90e+00, 3.20e+00, 4.50e+00,\n",
       "        6.00e+00, 3.00e+00, 9.00e+00, 1.12e+01, 1.34e+01, 1.56e+01,\n",
       "        1.78e+01, 1.90e+01]])"
      ]
     },
     "execution_count": 72,
     "metadata": {},
     "output_type": "execute_result"
    }
   ],
   "source": [
    "arr_t[np.newaxis,:]"
   ]
  },
  {
   "cell_type": "code",
   "execution_count": 73,
   "metadata": {},
   "outputs": [
    {
     "data": {
      "text/plain": [
       "2"
      ]
     },
     "execution_count": 73,
     "metadata": {},
     "output_type": "execute_result"
    }
   ],
   "source": [
    "arr_t[:,np.newaxis].ndim"
   ]
  },
  {
   "cell_type": "markdown",
   "metadata": {},
   "source": [
    "组合"
   ]
  },
  {
   "cell_type": "code",
   "execution_count": 74,
   "metadata": {},
   "outputs": [],
   "source": [
    "arr1 = np.arange(12).reshape(3,4)"
   ]
  },
  {
   "cell_type": "code",
   "execution_count": 75,
   "metadata": {},
   "outputs": [
    {
     "data": {
      "text/plain": [
       "array([[ 0,  1,  2,  3],\n",
       "       [ 4,  5,  6,  7],\n",
       "       [ 8,  9, 10, 11]])"
      ]
     },
     "execution_count": 75,
     "metadata": {},
     "output_type": "execute_result"
    }
   ],
   "source": [
    "arrl"
   ]
  },
  {
   "cell_type": "code",
   "execution_count": 76,
   "metadata": {},
   "outputs": [],
   "source": [
    "# ((8.5,6,4.1,2,0.7),(1.5,3.5,4,7,3.9),(3.2,4.5,6,3,9),(11.2,13.4,15.6,17.8,19))"
   ]
  },
  {
   "cell_type": "code",
   "execution_count": 77,
   "metadata": {},
   "outputs": [],
   "source": [
    "arr2 = np.array([[8.5,6,4.1,2,0.7],[1.5,3.5,4,7,3.9],[3.2,4.5,6,3,9]])"
   ]
  },
  {
   "cell_type": "code",
   "execution_count": 78,
   "metadata": {},
   "outputs": [
    {
     "data": {
      "text/plain": [
       "array([[8.5, 6. , 4.1, 2. , 0.7],\n",
       "       [1.5, 3.5, 4. , 7. , 3.9],\n",
       "       [3.2, 4.5, 6. , 3. , 9. ]])"
      ]
     },
     "execution_count": 78,
     "metadata": {},
     "output_type": "execute_result"
    }
   ],
   "source": [
    "arr2"
   ]
  },
  {
   "cell_type": "code",
   "execution_count": 79,
   "metadata": {},
   "outputs": [
    {
     "data": {
      "text/plain": [
       "(3, 9)"
      ]
     },
     "execution_count": 79,
     "metadata": {},
     "output_type": "execute_result"
    }
   ],
   "source": [
    "np.hstack([arr1, arr2]).shape"
   ]
  },
  {
   "cell_type": "code",
   "execution_count": 80,
   "metadata": {},
   "outputs": [
    {
     "data": {
      "text/plain": [
       "array([[ 8.5,  6. ,  4.1,  0.9],\n",
       "       [ 1.5,  3. ,  5.4,  1.1],\n",
       "       [ 3.2,  4.5,  6. ,  7.3],\n",
       "       [11.2, 13.4, 15.6, 14.2]])"
      ]
     },
     "execution_count": 80,
     "metadata": {},
     "output_type": "execute_result"
    }
   ],
   "source": [
    "arr3 = np.array([[8.5,6,4.1,0.9],[1.5,3,5.4,1.1],[3.2,4.5,6,7.3],[11.2,13.4,15.6,14.2]])\n",
    "arr3"
   ]
  },
  {
   "cell_type": "code",
   "execution_count": 81,
   "metadata": {},
   "outputs": [
    {
     "data": {
      "text/plain": [
       "array([[ 0. ,  1. ,  2. ,  3. ],\n",
       "       [ 4. ,  5. ,  6. ,  7. ],\n",
       "       [ 8. ,  9. , 10. , 11. ],\n",
       "       [ 8.5,  6. ,  4.1,  0.9],\n",
       "       [ 1.5,  3. ,  5.4,  1.1],\n",
       "       [ 3.2,  4.5,  6. ,  7.3],\n",
       "       [11.2, 13.4, 15.6, 14.2]])"
      ]
     },
     "execution_count": 81,
     "metadata": {},
     "output_type": "execute_result"
    }
   ],
   "source": [
    "np.vstack((arr1,arr3))"
   ]
  },
  {
   "cell_type": "code",
   "execution_count": 82,
   "metadata": {},
   "outputs": [
    {
     "data": {
      "text/plain": [
       "(7, 4)"
      ]
     },
     "execution_count": 82,
     "metadata": {},
     "output_type": "execute_result"
    }
   ],
   "source": [
    "np.vstack((arr1,arr3)).shape"
   ]
  },
  {
   "cell_type": "code",
   "execution_count": 83,
   "metadata": {},
   "outputs": [
    {
     "data": {
      "text/plain": [
       "array([[ 0. ,  1. ,  2. ,  3. ,  8.5,  6. ,  4.1,  2. ,  0.7],\n",
       "       [ 4. ,  5. ,  6. ,  7. ,  1.5,  3.5,  4. ,  7. ,  3.9],\n",
       "       [ 8. ,  9. , 10. , 11. ,  3.2,  4.5,  6. ,  3. ,  9. ]])"
      ]
     },
     "execution_count": 83,
     "metadata": {},
     "output_type": "execute_result"
    }
   ],
   "source": [
    "np.concatenate((arr1,arr2),axis=1)  # axis等于1是按着列的方向合并"
   ]
  },
  {
   "cell_type": "code",
   "execution_count": 84,
   "metadata": {},
   "outputs": [
    {
     "data": {
      "text/plain": [
       "array([[0, 1],\n",
       "       [2, 3]])"
      ]
     },
     "execution_count": 84,
     "metadata": {},
     "output_type": "execute_result"
    }
   ],
   "source": [
    "arr4 = np.array([[0,1],[2,3]])\n",
    "arr4"
   ]
  },
  {
   "cell_type": "code",
   "execution_count": 85,
   "metadata": {},
   "outputs": [
    {
     "data": {
      "text/plain": [
       "array([[0, 1, 0, 1, 0, 1, 0, 1],\n",
       "       [2, 3, 2, 3, 2, 3, 2, 3],\n",
       "       [0, 1, 0, 1, 0, 1, 0, 1],\n",
       "       [2, 3, 2, 3, 2, 3, 2, 3],\n",
       "       [0, 1, 0, 1, 0, 1, 0, 1],\n",
       "       [2, 3, 2, 3, 2, 3, 2, 3],\n",
       "       [0, 1, 0, 1, 0, 1, 0, 1],\n",
       "       [2, 3, 2, 3, 2, 3, 2, 3]])"
      ]
     },
     "execution_count": 85,
     "metadata": {},
     "output_type": "execute_result"
    }
   ],
   "source": [
    "np.tile(arr4, (4,4))"
   ]
  },
  {
   "cell_type": "markdown",
   "metadata": {},
   "source": [
    "三维数组"
   ]
  },
  {
   "cell_type": "code",
   "execution_count": 86,
   "metadata": {},
   "outputs": [
    {
     "data": {
      "text/plain": [
       "array([[[0, 1],\n",
       "        [2, 3]],\n",
       "\n",
       "       [[4, 5],\n",
       "        [6, 7]]])"
      ]
     },
     "execution_count": 86,
     "metadata": {},
     "output_type": "execute_result"
    }
   ],
   "source": [
    "arr5 = np.arange(8).reshape(2,2,2)\n",
    "arr5"
   ]
  },
  {
   "cell_type": "code",
   "execution_count": 90,
   "metadata": {},
   "outputs": [
    {
     "data": {
      "text/plain": [
       "array([[0, 1],\n",
       "       [2, 3]])"
      ]
     },
     "execution_count": 90,
     "metadata": {},
     "output_type": "execute_result"
    }
   ],
   "source": [
    "arr5[0]"
   ]
  },
  {
   "cell_type": "code",
   "execution_count": null,
   "metadata": {},
   "outputs": [],
   "source": []
  }
 ],
 "metadata": {
  "kernelspec": {
   "display_name": "Python 3",
   "language": "python",
   "name": "python3"
  },
  "language_info": {
   "codemirror_mode": {
    "name": "ipython",
    "version": 3
   },
   "file_extension": ".py",
   "mimetype": "text/x-python",
   "name": "python",
   "nbconvert_exporter": "python",
   "pygments_lexer": "ipython3",
   "version": "3.7.0"
  }
 },
 "nbformat": 4,
 "nbformat_minor": 2
}
